{
 "cells": [
  {
   "cell_type": "markdown",
   "metadata": {},
   "source": [
    "# Panduan Fungsi dan Sintaks Pandas"
   ]
  },
  {
   "cell_type": "code",
   "execution_count": 7,
   "metadata": {
    "trusted": true
   },
   "outputs": [],
   "source": [
    "import pandas as pd\n",
    "import numpy as np"
   ]
  },
  {
   "cell_type": "markdown",
   "metadata": {},
   "source": [
    "# Membaca File & Mengumpulkan Beberapa Informasi Tentang dataset"
   ]
  },
  {
   "cell_type": "markdown",
   "metadata": {},
   "source": [
    "### Membaca File yang Berbeda"
   ]
  },
  {
   "cell_type": "code",
   "execution_count": 49,
   "metadata": {},
   "outputs": [
    {
     "data": {
      "text/html": [
       "<div>\n",
       "<style scoped>\n",
       "    .dataframe tbody tr th:only-of-type {\n",
       "        vertical-align: middle;\n",
       "    }\n",
       "\n",
       "    .dataframe tbody tr th {\n",
       "        vertical-align: top;\n",
       "    }\n",
       "\n",
       "    .dataframe thead th {\n",
       "        text-align: right;\n",
       "    }\n",
       "</style>\n",
       "<table border=\"1\" class=\"dataframe\">\n",
       "  <thead>\n",
       "    <tr style=\"text-align: right;\">\n",
       "      <th></th>\n",
       "      <th>CompanyName</th>\n",
       "      <th>TypeOfLaptop</th>\n",
       "      <th>Inches</th>\n",
       "      <th>ScreenResolution</th>\n",
       "      <th>Cpu</th>\n",
       "      <th>Ram</th>\n",
       "      <th>Memory</th>\n",
       "      <th>Gpu</th>\n",
       "      <th>OpSys</th>\n",
       "      <th>Weight</th>\n",
       "      <th>Price</th>\n",
       "    </tr>\n",
       "  </thead>\n",
       "  <tbody>\n",
       "    <tr>\n",
       "      <th>0</th>\n",
       "      <td>MSI</td>\n",
       "      <td>Business Laptop</td>\n",
       "      <td>17.040680</td>\n",
       "      <td>IPS Panel Retina Display 2560x1600</td>\n",
       "      <td>Intel Core i7</td>\n",
       "      <td>12GB</td>\n",
       "      <td>512GB SSD</td>\n",
       "      <td>Intel Iris Xe Graphics</td>\n",
       "      <td>Linux</td>\n",
       "      <td>2.064834</td>\n",
       "      <td>35844.099371</td>\n",
       "    </tr>\n",
       "    <tr>\n",
       "      <th>1</th>\n",
       "      <td>Chuwi</td>\n",
       "      <td>2 in 1 Convertible</td>\n",
       "      <td>16.542395</td>\n",
       "      <td>Full HD</td>\n",
       "      <td>Intel Core i5</td>\n",
       "      <td>12GB</td>\n",
       "      <td>128GB PCIe SSD</td>\n",
       "      <td>Intel Iris Xe Graphics</td>\n",
       "      <td>No OS</td>\n",
       "      <td>4.060656</td>\n",
       "      <td>37019.059051</td>\n",
       "    </tr>\n",
       "    <tr>\n",
       "      <th>2</th>\n",
       "      <td>hp</td>\n",
       "      <td>WorkStation</td>\n",
       "      <td>17.295294</td>\n",
       "      <td>Full HD</td>\n",
       "      <td>Intel Xeon E3-1505M</td>\n",
       "      <td>8GB</td>\n",
       "      <td>1TB HDD</td>\n",
       "      <td>Intel Iris Xe Graphics</td>\n",
       "      <td>Linux</td>\n",
       "      <td>2.901689</td>\n",
       "      <td>33329.360341</td>\n",
       "    </tr>\n",
       "    <tr>\n",
       "      <th>3</th>\n",
       "      <td>MSI</td>\n",
       "      <td>2 in 1 Convertible</td>\n",
       "      <td>11.526203</td>\n",
       "      <td>2K</td>\n",
       "      <td>Intel Core i7</td>\n",
       "      <td>16GB</td>\n",
       "      <td>512GB NVMe SSD</td>\n",
       "      <td>Intel Iris Xe Graphics</td>\n",
       "      <td>Windows 10</td>\n",
       "      <td>2.914843</td>\n",
       "      <td>68631.102486</td>\n",
       "    </tr>\n",
       "    <tr>\n",
       "      <th>4</th>\n",
       "      <td>Microsoft</td>\n",
       "      <td>Gaming</td>\n",
       "      <td>12.649634</td>\n",
       "      <td>Full HD</td>\n",
       "      <td>Intel Core i5</td>\n",
       "      <td>8GB</td>\n",
       "      <td>512GB SSD</td>\n",
       "      <td>AMD Radeon RX 5600M</td>\n",
       "      <td>Windows 10</td>\n",
       "      <td>4.341995</td>\n",
       "      <td>33842.479566</td>\n",
       "    </tr>\n",
       "  </tbody>\n",
       "</table>\n",
       "</div>"
      ],
      "text/plain": [
       "  CompanyName        TypeOfLaptop     Inches  \\\n",
       "0         MSI     Business Laptop  17.040680   \n",
       "1       Chuwi  2 in 1 Convertible  16.542395   \n",
       "2          hp         WorkStation  17.295294   \n",
       "3         MSI  2 in 1 Convertible  11.526203   \n",
       "4   Microsoft              Gaming  12.649634   \n",
       "\n",
       "                     ScreenResolution                   Cpu   Ram  \\\n",
       "0  IPS Panel Retina Display 2560x1600         Intel Core i7  12GB   \n",
       "1                             Full HD         Intel Core i5  12GB   \n",
       "2                             Full HD  Intel Xeon E3-1505M    8GB   \n",
       "3                                  2K         Intel Core i7  16GB   \n",
       "4                             Full HD         Intel Core i5   8GB   \n",
       "\n",
       "           Memory                     Gpu       OpSys    Weight         Price  \n",
       "0       512GB SSD  Intel Iris Xe Graphics       Linux  2.064834  35844.099371  \n",
       "1  128GB PCIe SSD  Intel Iris Xe Graphics       No OS  4.060656  37019.059051  \n",
       "2         1TB HDD  Intel Iris Xe Graphics       Linux  2.901689  33329.360341  \n",
       "3  512GB NVMe SSD  Intel Iris Xe Graphics  Windows 10  2.914843  68631.102486  \n",
       "4       512GB SSD     AMD Radeon RX 5600M  Windows 10  4.341995  33842.479566  "
      ]
     },
     "execution_count": 49,
     "metadata": {},
     "output_type": "execute_result"
    }
   ],
   "source": [
    "# CVS #\n",
    "df=pd.read_csv(\"./Data/laptops.csv\")\n",
    "\n",
    "# Excel #\n",
    "# df=pd.read_excel(\"D:/data.xlsx\")\n",
    "\n",
    "# # Json # \n",
    "# df=pd.read_json(\"D:/data.json\",lines=True)\n",
    "\n",
    "# # Zip File #\n",
    "# df=pd.read_csv(\"D:/data zip file.zip\",compression='zip')\n",
    "\n",
    "# ## *** Different Encoded File *** ##\n",
    "# encodings_to_try = ['utf-8', 'Latin-1', 'ISO-8859-1']\n",
    "# for encoding in encodings_to_try:\n",
    "#     try:\n",
    "#         df = pd.read_csv('../Data/laptops.csv', encoding=encoding)\n",
    "#         print(\"File read successfully with encoding:\", encoding)\n",
    "#         break\n",
    "#     except UnicodeDecodeError:\n",
    "#         print('Sorry')\n",
    "\n",
    "df.head()"
   ]
  },
  {
   "cell_type": "markdown",
   "metadata": {},
   "source": [
    "### Menampilkan semua baris atau kolom"
   ]
  },
  {
   "cell_type": "code",
   "execution_count": 50,
   "metadata": {},
   "outputs": [
    {
     "data": {
      "text/html": [
       "<div>\n",
       "<style scoped>\n",
       "    .dataframe tbody tr th:only-of-type {\n",
       "        vertical-align: middle;\n",
       "    }\n",
       "\n",
       "    .dataframe tbody tr th {\n",
       "        vertical-align: top;\n",
       "    }\n",
       "\n",
       "    .dataframe thead th {\n",
       "        text-align: right;\n",
       "    }\n",
       "</style>\n",
       "<table border=\"1\" class=\"dataframe\">\n",
       "  <thead>\n",
       "    <tr style=\"text-align: right;\">\n",
       "      <th></th>\n",
       "      <th>CompanyName</th>\n",
       "      <th>TypeOfLaptop</th>\n",
       "      <th>Inches</th>\n",
       "      <th>ScreenResolution</th>\n",
       "      <th>Cpu</th>\n",
       "      <th>Ram</th>\n",
       "      <th>Memory</th>\n",
       "      <th>Gpu</th>\n",
       "      <th>OpSys</th>\n",
       "      <th>Weight</th>\n",
       "      <th>Price</th>\n",
       "    </tr>\n",
       "  </thead>\n",
       "  <tbody>\n",
       "    <tr>\n",
       "      <th>0</th>\n",
       "      <td>MSI</td>\n",
       "      <td>Business Laptop</td>\n",
       "      <td>17.040680</td>\n",
       "      <td>IPS Panel Retina Display 2560x1600</td>\n",
       "      <td>Intel Core i7</td>\n",
       "      <td>12GB</td>\n",
       "      <td>512GB SSD</td>\n",
       "      <td>Intel Iris Xe Graphics</td>\n",
       "      <td>Linux</td>\n",
       "      <td>2.064834</td>\n",
       "      <td>35844.099371</td>\n",
       "    </tr>\n",
       "    <tr>\n",
       "      <th>1</th>\n",
       "      <td>Chuwi</td>\n",
       "      <td>2 in 1 Convertible</td>\n",
       "      <td>16.542395</td>\n",
       "      <td>Full HD</td>\n",
       "      <td>Intel Core i5</td>\n",
       "      <td>12GB</td>\n",
       "      <td>128GB PCIe SSD</td>\n",
       "      <td>Intel Iris Xe Graphics</td>\n",
       "      <td>No OS</td>\n",
       "      <td>4.060656</td>\n",
       "      <td>37019.059051</td>\n",
       "    </tr>\n",
       "    <tr>\n",
       "      <th>2</th>\n",
       "      <td>hp</td>\n",
       "      <td>WorkStation</td>\n",
       "      <td>17.295294</td>\n",
       "      <td>Full HD</td>\n",
       "      <td>Intel Xeon E3-1505M</td>\n",
       "      <td>8GB</td>\n",
       "      <td>1TB HDD</td>\n",
       "      <td>Intel Iris Xe Graphics</td>\n",
       "      <td>Linux</td>\n",
       "      <td>2.901689</td>\n",
       "      <td>33329.360341</td>\n",
       "    </tr>\n",
       "    <tr>\n",
       "      <th>3</th>\n",
       "      <td>MSI</td>\n",
       "      <td>2 in 1 Convertible</td>\n",
       "      <td>11.526203</td>\n",
       "      <td>2K</td>\n",
       "      <td>Intel Core i7</td>\n",
       "      <td>16GB</td>\n",
       "      <td>512GB NVMe SSD</td>\n",
       "      <td>Intel Iris Xe Graphics</td>\n",
       "      <td>Windows 10</td>\n",
       "      <td>2.914843</td>\n",
       "      <td>68631.102486</td>\n",
       "    </tr>\n",
       "    <tr>\n",
       "      <th>4</th>\n",
       "      <td>Microsoft</td>\n",
       "      <td>Gaming</td>\n",
       "      <td>12.649634</td>\n",
       "      <td>Full HD</td>\n",
       "      <td>Intel Core i5</td>\n",
       "      <td>8GB</td>\n",
       "      <td>512GB SSD</td>\n",
       "      <td>AMD Radeon RX 5600M</td>\n",
       "      <td>Windows 10</td>\n",
       "      <td>4.341995</td>\n",
       "      <td>33842.479566</td>\n",
       "    </tr>\n",
       "  </tbody>\n",
       "</table>\n",
       "</div>"
      ],
      "text/plain": [
       "  CompanyName        TypeOfLaptop     Inches  \\\n",
       "0         MSI     Business Laptop  17.040680   \n",
       "1       Chuwi  2 in 1 Convertible  16.542395   \n",
       "2          hp         WorkStation  17.295294   \n",
       "3         MSI  2 in 1 Convertible  11.526203   \n",
       "4   Microsoft              Gaming  12.649634   \n",
       "\n",
       "                     ScreenResolution                   Cpu   Ram  \\\n",
       "0  IPS Panel Retina Display 2560x1600         Intel Core i7  12GB   \n",
       "1                             Full HD         Intel Core i5  12GB   \n",
       "2                             Full HD  Intel Xeon E3-1505M    8GB   \n",
       "3                                  2K         Intel Core i7  16GB   \n",
       "4                             Full HD         Intel Core i5   8GB   \n",
       "\n",
       "           Memory                     Gpu       OpSys    Weight         Price  \n",
       "0       512GB SSD  Intel Iris Xe Graphics       Linux  2.064834  35844.099371  \n",
       "1  128GB PCIe SSD  Intel Iris Xe Graphics       No OS  4.060656  37019.059051  \n",
       "2         1TB HDD  Intel Iris Xe Graphics       Linux  2.901689  33329.360341  \n",
       "3  512GB NVMe SSD  Intel Iris Xe Graphics  Windows 10  2.914843  68631.102486  \n",
       "4       512GB SSD     AMD Radeon RX 5600M  Windows 10  4.341995  33842.479566  "
      ]
     },
     "execution_count": 50,
     "metadata": {},
     "output_type": "execute_result"
    }
   ],
   "source": [
    "# Tampilkan Semua Baris\n",
    "df=pd.read_csv(\"./Data/laptops.csv\")\n",
    "pd.set_option('display.max_rows', None) \n",
    "df.head()\n",
    "\n",
    "# # Tampilkan Semua Kolom\n",
    "# df=pd.read_csv(\"../Data/laptops.csv\")\n",
    "#pd.set_option('display.max_columns', None)\n",
    "#df\n",
    "\n",
    "\n",
    "# # Display all the baris and kolom\n",
    "# df=pd.read_csv(\"../Data/laptops.csv\")\n",
    "# pd.set_option('display.max_rows', None)  \n",
    "# pd.set_option('display.max_columns', None) \n",
    "#df"
   ]
  },
  {
   "cell_type": "markdown",
   "metadata": {},
   "source": [
    "### Ubah nama kolom"
   ]
  },
  {
   "cell_type": "code",
   "execution_count": 10,
   "metadata": {},
   "outputs": [
    {
     "data": {
      "text/html": [
       "<div>\n",
       "<style scoped>\n",
       "    .dataframe tbody tr th:only-of-type {\n",
       "        vertical-align: middle;\n",
       "    }\n",
       "\n",
       "    .dataframe tbody tr th {\n",
       "        vertical-align: top;\n",
       "    }\n",
       "\n",
       "    .dataframe thead th {\n",
       "        text-align: right;\n",
       "    }\n",
       "</style>\n",
       "<table border=\"1\" class=\"dataframe\">\n",
       "  <thead>\n",
       "    <tr style=\"text-align: right;\">\n",
       "      <th></th>\n",
       "      <th>CompanyName</th>\n",
       "      <th>TypeOfLaptop</th>\n",
       "      <th>Inches</th>\n",
       "      <th>ScreenResolution</th>\n",
       "      <th>Cpu</th>\n",
       "      <th>Ram</th>\n",
       "      <th>Memory</th>\n",
       "      <th>Gpu</th>\n",
       "      <th>OpSys</th>\n",
       "      <th>Weight</th>\n",
       "      <th>Price</th>\n",
       "    </tr>\n",
       "  </thead>\n",
       "  <tbody>\n",
       "    <tr>\n",
       "      <th>0</th>\n",
       "      <td>MSI</td>\n",
       "      <td>Business Laptop</td>\n",
       "      <td>17.040680</td>\n",
       "      <td>IPS Panel Retina Display 2560x1600</td>\n",
       "      <td>Intel Core i7</td>\n",
       "      <td>12GB</td>\n",
       "      <td>512GB SSD</td>\n",
       "      <td>Intel Iris Xe Graphics</td>\n",
       "      <td>Linux</td>\n",
       "      <td>2.064834</td>\n",
       "      <td>35844.099371</td>\n",
       "    </tr>\n",
       "    <tr>\n",
       "      <th>1</th>\n",
       "      <td>Chuwi</td>\n",
       "      <td>2 in 1 Convertible</td>\n",
       "      <td>16.542395</td>\n",
       "      <td>Full HD</td>\n",
       "      <td>Intel Core i5</td>\n",
       "      <td>12GB</td>\n",
       "      <td>128GB PCIe SSD</td>\n",
       "      <td>Intel Iris Xe Graphics</td>\n",
       "      <td>No OS</td>\n",
       "      <td>4.060656</td>\n",
       "      <td>37019.059051</td>\n",
       "    </tr>\n",
       "    <tr>\n",
       "      <th>2</th>\n",
       "      <td>hp</td>\n",
       "      <td>WorkStation</td>\n",
       "      <td>17.295294</td>\n",
       "      <td>Full HD</td>\n",
       "      <td>Intel Xeon E3-1505M</td>\n",
       "      <td>8GB</td>\n",
       "      <td>1TB HDD</td>\n",
       "      <td>Intel Iris Xe Graphics</td>\n",
       "      <td>Linux</td>\n",
       "      <td>2.901689</td>\n",
       "      <td>33329.360341</td>\n",
       "    </tr>\n",
       "    <tr>\n",
       "      <th>3</th>\n",
       "      <td>MSI</td>\n",
       "      <td>2 in 1 Convertible</td>\n",
       "      <td>11.526203</td>\n",
       "      <td>2K</td>\n",
       "      <td>Intel Core i7</td>\n",
       "      <td>16GB</td>\n",
       "      <td>512GB NVMe SSD</td>\n",
       "      <td>Intel Iris Xe Graphics</td>\n",
       "      <td>Windows 10</td>\n",
       "      <td>2.914843</td>\n",
       "      <td>68631.102486</td>\n",
       "    </tr>\n",
       "    <tr>\n",
       "      <th>4</th>\n",
       "      <td>Microsoft</td>\n",
       "      <td>Gaming</td>\n",
       "      <td>12.649634</td>\n",
       "      <td>Full HD</td>\n",
       "      <td>Intel Core i5</td>\n",
       "      <td>8GB</td>\n",
       "      <td>512GB SSD</td>\n",
       "      <td>AMD Radeon RX 5600M</td>\n",
       "      <td>Windows 10</td>\n",
       "      <td>4.341995</td>\n",
       "      <td>33842.479566</td>\n",
       "    </tr>\n",
       "  </tbody>\n",
       "</table>\n",
       "</div>"
      ],
      "text/plain": [
       "  CompanyName        TypeOfLaptop     Inches  \\\n",
       "0         MSI     Business Laptop  17.040680   \n",
       "1       Chuwi  2 in 1 Convertible  16.542395   \n",
       "2          hp         WorkStation  17.295294   \n",
       "3         MSI  2 in 1 Convertible  11.526203   \n",
       "4   Microsoft              Gaming  12.649634   \n",
       "\n",
       "                     ScreenResolution                   Cpu   Ram  \\\n",
       "0  IPS Panel Retina Display 2560x1600         Intel Core i7  12GB   \n",
       "1                             Full HD         Intel Core i5  12GB   \n",
       "2                             Full HD  Intel Xeon E3-1505M    8GB   \n",
       "3                                  2K         Intel Core i7  16GB   \n",
       "4                             Full HD         Intel Core i5   8GB   \n",
       "\n",
       "           Memory                     Gpu       OpSys    Weight         Price  \n",
       "0       512GB SSD  Intel Iris Xe Graphics       Linux  2.064834  35844.099371  \n",
       "1  128GB PCIe SSD  Intel Iris Xe Graphics       No OS  4.060656  37019.059051  \n",
       "2         1TB HDD  Intel Iris Xe Graphics       Linux  2.901689  33329.360341  \n",
       "3  512GB NVMe SSD  Intel Iris Xe Graphics  Windows 10  2.914843  68631.102486  \n",
       "4       512GB SSD     AMD Radeon RX 5600M  Windows 10  4.341995  33842.479566  "
      ]
     },
     "execution_count": 10,
     "metadata": {},
     "output_type": "execute_result"
    }
   ],
   "source": [
    "df.columns = df.columns.str.strip()\n",
    "df.rename(columns={'OldName1': 'NewName1', 'OldName2': 'NewName2', 'OldName3': 'NewName3'}, inplace=True)\n",
    "df.head()"
   ]
  },
  {
   "cell_type": "markdown",
   "metadata": {},
   "source": [
    "### Dapatkan semua Kolom numerik"
   ]
  },
  {
   "cell_type": "code",
   "execution_count": null,
   "metadata": {},
   "outputs": [
    {
     "data": {
      "text/html": [
       "<div>\n",
       "<style scoped>\n",
       "    .dataframe tbody tr th:only-of-type {\n",
       "        vertical-align: middle;\n",
       "    }\n",
       "\n",
       "    .dataframe tbody tr th {\n",
       "        vertical-align: top;\n",
       "    }\n",
       "\n",
       "    .dataframe thead th {\n",
       "        text-align: right;\n",
       "    }\n",
       "</style>\n",
       "<table border=\"1\" class=\"dataframe\">\n",
       "  <thead>\n",
       "    <tr style=\"text-align: right;\">\n",
       "      <th></th>\n",
       "      <th>Inches</th>\n",
       "      <th>Weight</th>\n",
       "      <th>Price</th>\n",
       "    </tr>\n",
       "  </thead>\n",
       "  <tbody>\n",
       "    <tr>\n",
       "      <th>0</th>\n",
       "      <td>17.040680</td>\n",
       "      <td>2.064834</td>\n",
       "      <td>35844.099371</td>\n",
       "    </tr>\n",
       "    <tr>\n",
       "      <th>1</th>\n",
       "      <td>16.542395</td>\n",
       "      <td>4.060656</td>\n",
       "      <td>37019.059051</td>\n",
       "    </tr>\n",
       "    <tr>\n",
       "      <th>2</th>\n",
       "      <td>17.295294</td>\n",
       "      <td>2.901689</td>\n",
       "      <td>33329.360341</td>\n",
       "    </tr>\n",
       "    <tr>\n",
       "      <th>3</th>\n",
       "      <td>11.526203</td>\n",
       "      <td>2.914843</td>\n",
       "      <td>68631.102486</td>\n",
       "    </tr>\n",
       "    <tr>\n",
       "      <th>4</th>\n",
       "      <td>12.649634</td>\n",
       "      <td>4.341995</td>\n",
       "      <td>33842.479566</td>\n",
       "    </tr>\n",
       "  </tbody>\n",
       "</table>\n",
       "</div>"
      ],
      "text/plain": [
       "      Inches    Weight         Price\n",
       "0  17.040680  2.064834  35844.099371\n",
       "1  16.542395  4.060656  37019.059051\n",
       "2  17.295294  2.901689  33329.360341\n",
       "3  11.526203  2.914843  68631.102486\n",
       "4  12.649634  4.341995  33842.479566"
      ]
     },
     "execution_count": 11,
     "metadata": {},
     "output_type": "execute_result"
    }
   ],
   "source": [
    "# Ambil semua nama kolom yang bertipe numerik (int dan float)\n",
    "numerical_columns = df.select_dtypes(include=['int64', 'int32', 'float64', 'float32']).columns.tolist()\n",
    "numerical_columns\n",
    "\n",
    "# Buat DataFrame baru yang hanya berisi kolom-kolom numerik\n",
    "numerical_df = df[numerical_columns]\n",
    "\n",
    "# Tampilkan 5 baris pertama dari DataFrame numerik untuk melihat hasilnya\n",
    "numerical_df.head()\n"
   ]
  },
  {
   "cell_type": "markdown",
   "metadata": {},
   "source": [
    "### Dapatkan semua kolom kategoris"
   ]
  },
  {
   "cell_type": "code",
   "execution_count": 51,
   "metadata": {},
   "outputs": [
    {
     "data": {
      "text/html": [
       "<div>\n",
       "<style scoped>\n",
       "    .dataframe tbody tr th:only-of-type {\n",
       "        vertical-align: middle;\n",
       "    }\n",
       "\n",
       "    .dataframe tbody tr th {\n",
       "        vertical-align: top;\n",
       "    }\n",
       "\n",
       "    .dataframe thead th {\n",
       "        text-align: right;\n",
       "    }\n",
       "</style>\n",
       "<table border=\"1\" class=\"dataframe\">\n",
       "  <thead>\n",
       "    <tr style=\"text-align: right;\">\n",
       "      <th></th>\n",
       "      <th>CompanyName</th>\n",
       "      <th>TypeOfLaptop</th>\n",
       "      <th>ScreenResolution</th>\n",
       "      <th>Cpu</th>\n",
       "      <th>Ram</th>\n",
       "      <th>Memory</th>\n",
       "      <th>Gpu</th>\n",
       "      <th>OpSys</th>\n",
       "    </tr>\n",
       "  </thead>\n",
       "  <tbody>\n",
       "    <tr>\n",
       "      <th>0</th>\n",
       "      <td>MSI</td>\n",
       "      <td>Business Laptop</td>\n",
       "      <td>IPS Panel Retina Display 2560x1600</td>\n",
       "      <td>Intel Core i7</td>\n",
       "      <td>12GB</td>\n",
       "      <td>512GB SSD</td>\n",
       "      <td>Intel Iris Xe Graphics</td>\n",
       "      <td>Linux</td>\n",
       "    </tr>\n",
       "    <tr>\n",
       "      <th>1</th>\n",
       "      <td>Chuwi</td>\n",
       "      <td>2 in 1 Convertible</td>\n",
       "      <td>Full HD</td>\n",
       "      <td>Intel Core i5</td>\n",
       "      <td>12GB</td>\n",
       "      <td>128GB PCIe SSD</td>\n",
       "      <td>Intel Iris Xe Graphics</td>\n",
       "      <td>No OS</td>\n",
       "    </tr>\n",
       "    <tr>\n",
       "      <th>2</th>\n",
       "      <td>hp</td>\n",
       "      <td>WorkStation</td>\n",
       "      <td>Full HD</td>\n",
       "      <td>Intel Xeon E3-1505M</td>\n",
       "      <td>8GB</td>\n",
       "      <td>1TB HDD</td>\n",
       "      <td>Intel Iris Xe Graphics</td>\n",
       "      <td>Linux</td>\n",
       "    </tr>\n",
       "    <tr>\n",
       "      <th>3</th>\n",
       "      <td>MSI</td>\n",
       "      <td>2 in 1 Convertible</td>\n",
       "      <td>2K</td>\n",
       "      <td>Intel Core i7</td>\n",
       "      <td>16GB</td>\n",
       "      <td>512GB NVMe SSD</td>\n",
       "      <td>Intel Iris Xe Graphics</td>\n",
       "      <td>Windows 10</td>\n",
       "    </tr>\n",
       "    <tr>\n",
       "      <th>4</th>\n",
       "      <td>Microsoft</td>\n",
       "      <td>Gaming</td>\n",
       "      <td>Full HD</td>\n",
       "      <td>Intel Core i5</td>\n",
       "      <td>8GB</td>\n",
       "      <td>512GB SSD</td>\n",
       "      <td>AMD Radeon RX 5600M</td>\n",
       "      <td>Windows 10</td>\n",
       "    </tr>\n",
       "  </tbody>\n",
       "</table>\n",
       "</div>"
      ],
      "text/plain": [
       "  CompanyName        TypeOfLaptop                    ScreenResolution  \\\n",
       "0         MSI     Business Laptop  IPS Panel Retina Display 2560x1600   \n",
       "1       Chuwi  2 in 1 Convertible                             Full HD   \n",
       "2          hp         WorkStation                             Full HD   \n",
       "3         MSI  2 in 1 Convertible                                  2K   \n",
       "4   Microsoft              Gaming                             Full HD   \n",
       "\n",
       "                    Cpu   Ram          Memory                     Gpu  \\\n",
       "0         Intel Core i7  12GB       512GB SSD  Intel Iris Xe Graphics   \n",
       "1         Intel Core i5  12GB  128GB PCIe SSD  Intel Iris Xe Graphics   \n",
       "2  Intel Xeon E3-1505M    8GB         1TB HDD  Intel Iris Xe Graphics   \n",
       "3         Intel Core i7  16GB  512GB NVMe SSD  Intel Iris Xe Graphics   \n",
       "4         Intel Core i5   8GB       512GB SSD     AMD Radeon RX 5600M   \n",
       "\n",
       "        OpSys  \n",
       "0       Linux  \n",
       "1       No OS  \n",
       "2       Linux  \n",
       "3  Windows 10  \n",
       "4  Windows 10  "
      ]
     },
     "execution_count": 51,
     "metadata": {},
     "output_type": "execute_result"
    }
   ],
   "source": [
    "# Ambil semua nama kolom yang bertipe kategorikal (object/string)\n",
    "categorical_columns = df.select_dtypes(include=['object']).columns.tolist()\n",
    "categorical_columns\n",
    "\n",
    "# Buat DataFrame baru yang hanya berisi kolom-kolom kategorikal\n",
    "categorical_df = df[categorical_columns]\n",
    "\n",
    "# Tampilkan 5 baris pertama dari DataFrame kategorikal untuk melihat hasilnya\n",
    "categorical_df.head()\n"
   ]
  },
  {
   "cell_type": "markdown",
   "metadata": {},
   "source": [
    "### Ambil Subset dari kerangka data"
   ]
  },
  {
   "cell_type": "code",
   "execution_count": 13,
   "metadata": {},
   "outputs": [
    {
     "data": {
      "text/plain": [
       "1000"
      ]
     },
     "execution_count": 13,
     "metadata": {},
     "output_type": "execute_result"
    }
   ],
   "source": [
    "len(df)\n"
   ]
  },
  {
   "cell_type": "code",
   "execution_count": null,
   "metadata": {},
   "outputs": [],
   "source": [
    "# Ambil 100 baris secara acak dari DataFrame (ubah angkanya sesuai kebutuhan)\n",
    "df = df.sample(100, random_state=2)\n",
    "\n",
    "# Reset indeks setelah pengambilan sampel agar urut kembali dari 0\n",
    "df = df.reset_index(drop=True)\n"
   ]
  },
  {
   "cell_type": "markdown",
   "metadata": {},
   "source": [
    "### Acak kumpulan data"
   ]
  },
  {
   "cell_type": "code",
   "execution_count": 15,
   "metadata": {},
   "outputs": [],
   "source": [
    "df = df.sample(frac=1).reset_index(drop=True)"
   ]
  },
  {
   "cell_type": "markdown",
   "metadata": {},
   "source": [
    "### Tetapkan kolom baru sebagai indeks"
   ]
  },
  {
   "cell_type": "code",
   "execution_count": 16,
   "metadata": {},
   "outputs": [
    {
     "name": "stdout",
     "output_type": "stream",
     "text": [
      "Index(['CompanyName', 'TypeOfLaptop', 'Inches', 'ScreenResolution', 'Cpu',\n",
      "       'Ram', 'Memory', 'Gpu', 'OpSys', 'Weight', 'Price'],\n",
      "      dtype='object')\n"
     ]
    }
   ],
   "source": [
    "print(df.columns)\n"
   ]
  },
  {
   "cell_type": "code",
   "execution_count": null,
   "metadata": {},
   "outputs": [],
   "source": [
    "# Mengatur satu kolom sebagai indeks DataFrame\n",
    "df.set_index('TypeOfLaptop', inplace=True)\n",
    "\n",
    "# Mengatur beberapa kolom sebagai indeks DataFrame (ubah 'Col1' dan 'Col2' sesuai kebutuhan)\n",
    "# Parameter drop=True akan menghapus kolom dari DataFrame setelah dijadikan indeks\n",
    "# df.set_index(['Col1', 'Col2'], inplace=True, drop=True)\n"
   ]
  },
  {
   "cell_type": "markdown",
   "metadata": {},
   "source": [
    "### Atur Ulang Indeks Kerangka Data"
   ]
  },
  {
   "cell_type": "code",
   "execution_count": 18,
   "metadata": {},
   "outputs": [],
   "source": [
    "df.reset_index(inplace=True)"
   ]
  },
  {
   "cell_type": "markdown",
   "metadata": {},
   "source": [
    "### Menampilkan Kerangka Data"
   ]
  },
  {
   "cell_type": "code",
   "execution_count": null,
   "metadata": {},
   "outputs": [
    {
     "data": {
      "text/html": [
       "<div>\n",
       "<style scoped>\n",
       "    .dataframe tbody tr th:only-of-type {\n",
       "        vertical-align: middle;\n",
       "    }\n",
       "\n",
       "    .dataframe tbody tr th {\n",
       "        vertical-align: top;\n",
       "    }\n",
       "\n",
       "    .dataframe thead th {\n",
       "        text-align: right;\n",
       "    }\n",
       "</style>\n",
       "<table border=\"1\" class=\"dataframe\">\n",
       "  <thead>\n",
       "    <tr style=\"text-align: right;\">\n",
       "      <th></th>\n",
       "      <th>index</th>\n",
       "      <th>CompanyName</th>\n",
       "      <th>TypeOfLaptop</th>\n",
       "      <th>Inches</th>\n",
       "      <th>ScreenResolution</th>\n",
       "      <th>Cpu</th>\n",
       "      <th>Ram</th>\n",
       "      <th>Memory</th>\n",
       "      <th>Gpu</th>\n",
       "      <th>OpSys</th>\n",
       "      <th>Weight</th>\n",
       "      <th>Price</th>\n",
       "    </tr>\n",
       "  </thead>\n",
       "  <tbody>\n",
       "    <tr>\n",
       "      <th>18</th>\n",
       "      <td>18</td>\n",
       "      <td>Apple</td>\n",
       "      <td>2 in 1 Convertible</td>\n",
       "      <td>16.252519</td>\n",
       "      <td>IPS Panel Retina Display 2560x1600</td>\n",
       "      <td>Intel Core i5</td>\n",
       "      <td>16GB</td>\n",
       "      <td>1TB HDD</td>\n",
       "      <td>Intel Iris Xe Graphics</td>\n",
       "      <td>No OS</td>\n",
       "      <td>2.851182</td>\n",
       "      <td>35070.155851</td>\n",
       "    </tr>\n",
       "  </tbody>\n",
       "</table>\n",
       "</div>"
      ],
      "text/plain": [
       "    index CompanyName        TypeOfLaptop     Inches  \\\n",
       "18     18       Apple  2 in 1 Convertible  16.252519   \n",
       "\n",
       "                      ScreenResolution            Cpu   Ram   Memory  \\\n",
       "18  IPS Panel Retina Display 2560x1600  Intel Core i5  16GB  1TB HDD   \n",
       "\n",
       "                       Gpu  OpSys    Weight         Price  \n",
       "18  Intel Iris Xe Graphics  No OS  2.851182  35070.155851  "
      ]
     },
     "execution_count": 19,
     "metadata": {},
     "output_type": "execute_result"
    }
   ],
   "source": [
    "# Menampilkan 50 baris pertama dari DataFrame (ubah angkanya jika perlu)\n",
    "df.head(50)\n",
    "\n",
    "# Menampilkan 50 baris terakhir dari DataFrame (ubah angkanya jika perlu)\n",
    "df.tail(50)\n",
    "\n",
    "# Menampilkan 1 baris acak dari DataFrame (ubah angkanya jika ingin lebih banyak sampel)\n",
    "df.sample(1)\n"
   ]
  },
  {
   "cell_type": "markdown",
   "metadata": {},
   "source": [
    "### Bentuk DataFrame"
   ]
  },
  {
   "cell_type": "code",
   "execution_count": 20,
   "metadata": {},
   "outputs": [
    {
     "data": {
      "text/plain": [
       "(100, 12)"
      ]
     },
     "execution_count": 20,
     "metadata": {},
     "output_type": "execute_result"
    }
   ],
   "source": [
    "df.shape"
   ]
  },
  {
   "cell_type": "markdown",
   "metadata": {},
   "source": [
    "### Informasi DataFrame"
   ]
  },
  {
   "cell_type": "code",
   "execution_count": 21,
   "metadata": {},
   "outputs": [
    {
     "name": "stdout",
     "output_type": "stream",
     "text": [
      "<class 'pandas.core.frame.DataFrame'>\n",
      "RangeIndex: 100 entries, 0 to 99\n",
      "Data columns (total 12 columns):\n",
      " #   Column            Non-Null Count  Dtype  \n",
      "---  ------            --------------  -----  \n",
      " 0   index             100 non-null    int64  \n",
      " 1   CompanyName       100 non-null    object \n",
      " 2   TypeOfLaptop      100 non-null    object \n",
      " 3   Inches            100 non-null    float64\n",
      " 4   ScreenResolution  100 non-null    object \n",
      " 5   Cpu               100 non-null    object \n",
      " 6   Ram               100 non-null    object \n",
      " 7   Memory            100 non-null    object \n",
      " 8   Gpu               100 non-null    object \n",
      " 9   OpSys             100 non-null    object \n",
      " 10  Weight            100 non-null    float64\n",
      " 11  Price             100 non-null    float64\n",
      "dtypes: float64(3), int64(1), object(8)\n",
      "memory usage: 9.5+ KB\n"
     ]
    }
   ],
   "source": [
    "df.info()"
   ]
  },
  {
   "cell_type": "markdown",
   "metadata": {},
   "source": [
    "### Deskripsi DataFrame"
   ]
  },
  {
   "cell_type": "code",
   "execution_count": 22,
   "metadata": {},
   "outputs": [
    {
     "data": {
      "text/html": [
       "<div>\n",
       "<style scoped>\n",
       "    .dataframe tbody tr th:only-of-type {\n",
       "        vertical-align: middle;\n",
       "    }\n",
       "\n",
       "    .dataframe tbody tr th {\n",
       "        vertical-align: top;\n",
       "    }\n",
       "\n",
       "    .dataframe thead th {\n",
       "        text-align: right;\n",
       "    }\n",
       "</style>\n",
       "<table border=\"1\" class=\"dataframe\">\n",
       "  <thead>\n",
       "    <tr style=\"text-align: right;\">\n",
       "      <th></th>\n",
       "      <th>index</th>\n",
       "      <th>Inches</th>\n",
       "      <th>Weight</th>\n",
       "      <th>Price</th>\n",
       "    </tr>\n",
       "  </thead>\n",
       "  <tbody>\n",
       "    <tr>\n",
       "      <th>count</th>\n",
       "      <td>100.000000</td>\n",
       "      <td>100.000000</td>\n",
       "      <td>100.000000</td>\n",
       "      <td>100.000000</td>\n",
       "    </tr>\n",
       "    <tr>\n",
       "      <th>mean</th>\n",
       "      <td>49.500000</td>\n",
       "      <td>14.619781</td>\n",
       "      <td>3.551566</td>\n",
       "      <td>49564.516871</td>\n",
       "    </tr>\n",
       "    <tr>\n",
       "      <th>std</th>\n",
       "      <td>29.011492</td>\n",
       "      <td>2.073986</td>\n",
       "      <td>0.838829</td>\n",
       "      <td>13572.217602</td>\n",
       "    </tr>\n",
       "    <tr>\n",
       "      <th>min</th>\n",
       "      <td>0.000000</td>\n",
       "      <td>11.126754</td>\n",
       "      <td>2.018649</td>\n",
       "      <td>30080.515939</td>\n",
       "    </tr>\n",
       "    <tr>\n",
       "      <th>25%</th>\n",
       "      <td>24.750000</td>\n",
       "      <td>12.919925</td>\n",
       "      <td>2.850053</td>\n",
       "      <td>38252.534208</td>\n",
       "    </tr>\n",
       "    <tr>\n",
       "      <th>50%</th>\n",
       "      <td>49.500000</td>\n",
       "      <td>14.610471</td>\n",
       "      <td>3.695618</td>\n",
       "      <td>48149.345963</td>\n",
       "    </tr>\n",
       "    <tr>\n",
       "      <th>75%</th>\n",
       "      <td>74.250000</td>\n",
       "      <td>16.541939</td>\n",
       "      <td>4.228178</td>\n",
       "      <td>59504.845241</td>\n",
       "    </tr>\n",
       "    <tr>\n",
       "      <th>max</th>\n",
       "      <td>99.000000</td>\n",
       "      <td>17.975646</td>\n",
       "      <td>4.951757</td>\n",
       "      <td>97810.331006</td>\n",
       "    </tr>\n",
       "  </tbody>\n",
       "</table>\n",
       "</div>"
      ],
      "text/plain": [
       "            index      Inches      Weight         Price\n",
       "count  100.000000  100.000000  100.000000    100.000000\n",
       "mean    49.500000   14.619781    3.551566  49564.516871\n",
       "std     29.011492    2.073986    0.838829  13572.217602\n",
       "min      0.000000   11.126754    2.018649  30080.515939\n",
       "25%     24.750000   12.919925    2.850053  38252.534208\n",
       "50%     49.500000   14.610471    3.695618  48149.345963\n",
       "75%     74.250000   16.541939    4.228178  59504.845241\n",
       "max     99.000000   17.975646    4.951757  97810.331006"
      ]
     },
     "execution_count": 22,
     "metadata": {},
     "output_type": "execute_result"
    }
   ],
   "source": [
    "df.describe()"
   ]
  },
  {
   "cell_type": "markdown",
   "metadata": {},
   "source": [
    "### Tipe data kolom"
   ]
  },
  {
   "cell_type": "code",
   "execution_count": null,
   "metadata": {},
   "outputs": [
    {
     "data": {
      "text/plain": [
       "dtype('int64')"
      ]
     },
     "execution_count": 23,
     "metadata": {},
     "output_type": "execute_result"
    }
   ],
   "source": [
    "# Menampilkan tipe data dari satu kolom tertentu\n",
    "df['TypeOfLaptop'].dtype\n",
    "\n",
    "# Menampilkan tipe data dari semua kolom dalam DataFrame\n",
    "df.dtypes\n"
   ]
  },
  {
   "cell_type": "markdown",
   "metadata": {},
   "source": [
    "### Semua nama kolom"
   ]
  },
  {
   "cell_type": "code",
   "execution_count": 24,
   "metadata": {
    "trusted": true
   },
   "outputs": [
    {
     "data": {
      "text/plain": [
       "Index(['index', 'CompanyName', 'TypeOfLaptop', 'Inches', 'ScreenResolution',\n",
       "       'Cpu', 'Ram', 'Memory', 'Gpu', 'OpSys', 'Weight', 'Price'],\n",
       "      dtype='object')"
      ]
     },
     "execution_count": 24,
     "metadata": {},
     "output_type": "execute_result"
    }
   ],
   "source": [
    "df.columns"
   ]
  },
  {
   "cell_type": "markdown",
   "metadata": {},
   "source": [
    "### Nilai Unik(isi Variabel) suatu kolom"
   ]
  },
  {
   "cell_type": "code",
   "execution_count": 31,
   "metadata": {},
   "outputs": [
    {
     "data": {
      "text/plain": [
       "array(['Chuwi', 'Apple', 'MSI', 'Dell', 'Asus', 'lenevo', 'Acer',\n",
       "       'Microsoft', 'hp'], dtype=object)"
      ]
     },
     "execution_count": 31,
     "metadata": {},
     "output_type": "execute_result"
    }
   ],
   "source": [
    "df['CompanyName'].unique()"
   ]
  },
  {
   "cell_type": "markdown",
   "metadata": {},
   "source": [
    "# Nilai terbesar dan terkecil dari suatu kolom"
   ]
  },
  {
   "cell_type": "code",
   "execution_count": null,
   "metadata": {},
   "outputs": [],
   "source": [
    "# Mengambil 6 nilai terbesar dari kolom \"Price\" (ubah angka dalam kurung jika perlu)\n",
    "largest = df[\"Price\"].nlargest(6)\n",
    "\n",
    "# Mengambil 10 nilai terkecil dari kolom \"Price\" (ubah angka dalam kurung jika perlu)\n",
    "smallest = df[\"Price\"].nsmallest(10)\n"
   ]
  },
  {
   "cell_type": "markdown",
   "metadata": {},
   "source": [
    "# Temukan duplikat dan hapus nilai duplikat"
   ]
  },
  {
   "cell_type": "code",
   "execution_count": null,
   "metadata": {},
   "outputs": [],
   "source": [
    "# Menghitung jumlah data yang duplikat pada kolom tertentu (ganti 'index' dengan nama kolom yang sesuai)\n",
    "duplicate = df['index'].duplicated().sum()\n",
    "\n",
    "# Menghapus data duplikat dari kolom tertentu (ganti 'index' dengan nama kolom yang sesuai)\n",
    "drop_duplicate = df['index'].drop_duplicates()\n"
   ]
  },
  {
   "cell_type": "markdown",
   "metadata": {},
   "source": [
    "# Jumlah nilai unik suatu kolom"
   ]
  },
  {
   "cell_type": "code",
   "execution_count": null,
   "metadata": {},
   "outputs": [
    {
     "data": {
      "text/plain": [
       "Gpu\n",
       "NVIDIA GeForce GTX 1650    38.0\n",
       "Intel Iris Xe Graphics     38.0\n",
       "AMD Radeon RX 5600M        24.0\n",
       "Name: proportion, dtype: float64"
      ]
     },
     "execution_count": 44,
     "metadata": {},
     "output_type": "execute_result"
    }
   ],
   "source": [
    "# Menghitung jumlah kemunculan setiap nilai unik dalam kolom \"CompanyName\"\n",
    "pd.set_option('display.max_rows', None)\n",
    "count_value = df['CompanyName'].value_counts()\n",
    "\n",
    "# Menghitung persentase kemunculan setiap nilai unik dalam kolom \"Gpu\"\n",
    "pd.set_option('display.max_rows', None)\n",
    "df['Gpu'].value_counts(normalize=True) * 100\n"
   ]
  },
  {
   "cell_type": "markdown",
   "metadata": {},
   "source": [
    "# Ubah Tipe Data Kolom"
   ]
  },
  {
   "cell_type": "code",
   "execution_count": null,
   "metadata": {},
   "outputs": [],
   "source": [
    "# Float\n",
    "df['Column_name'] = df['Column_name'].astype(float)\n",
    "\n",
    "# Object\n",
    "df['Column_name'] = df['Column_name'].astype('category')\n",
    "\n",
    "# int\n",
    "df['Column_name'] = df['Column_name'].astype(int)\n",
    "\n",
    "#Datetime\n",
    "df['Date_col_name'] = pd.to_datetime(df['Date_col_name'])\n",
    "\n",
    "# Also can specify the format\n",
    "df['Date_col_name'] = pd.to_datetime(df['Date_col_name'], format='%Y-%m-%d')\n"
   ]
  },
  {
   "cell_type": "markdown",
   "metadata": {},
   "source": [
    "## Contoh"
   ]
  },
  {
   "cell_type": "code",
   "execution_count": 54,
   "metadata": {},
   "outputs": [],
   "source": [
    "# Mengubah kolom bertipe numerik menjadi float\n",
    "df['Inches'] = df['Inches'].astype(float)\n",
    "df['Weight'] = df['Weight'].astype(float)\n",
    "df['Price'] = df['Price'].astype(float)\n",
    "\n",
    "\n",
    "# Mengubah kolom bertipe object menjadi kategori (untuk optimasi penggunaan memori)\n",
    "df['CompanyName'] = df['CompanyName'].astype('category')\n",
    "df['TypeOfLaptop'] = df['TypeOfLaptop'].astype('category')\n",
    "df['ScreenResolution'] = df['ScreenResolution'].astype('category')\n",
    "df['Cpu'] = df['Cpu'].astype('category')\n",
    "df['Ram'] = df['Ram'].astype('category')\n",
    "df['Memory'] = df['Memory'].astype('category')\n",
    "df['Gpu'] = df['Gpu'].astype('category')\n",
    "df['OpSys'] = df['OpSys'].astype('category')\n",
    "\n",
    "# Jika terdapat kolom dengan format tanggal (misalnya 'Date_col_name'), ubah ke tipe datetime\n",
    "# df['Date_col_name'] = pd.to_datetime(df['Date_col_name'])\n",
    "# df['Date_col_name'] = pd.to_datetime(df['Date_col_name'], format='%Y-%m-%d')  # Jika ada format tertentu\n"
   ]
  },
  {
   "cell_type": "markdown",
   "metadata": {},
   "source": [
    "### "
   ]
  },
  {
   "cell_type": "markdown",
   "metadata": {},
   "source": [
    "# Hapus kolom dan baris"
   ]
  },
  {
   "cell_type": "code",
   "execution_count": null,
   "metadata": {},
   "outputs": [],
   "source": [
    "# Menghapus satu kolom dari DataFrame  \n",
    "df = df.drop('Column_name', axis=1, inplace=True)\n",
    "\n",
    "# Menghapus beberapa kolom dari DataFrame  \n",
    "df = df.drop(['Column_name1', 'Column_name2'], axis=1, inplace=True)\n",
    "\n",
    "# Menghapus satu baris berdasarkan indeks  \n",
    "df = df.drop(row_number, axis=0, inplace=True)  \n",
    "Ex---> df = df.drop(4, axis=0, inplace=True)\n",
    "\n",
    "# Menghapus beberapa baris berdasarkan indeks  \n",
    "df = df.drop([row_number1, row_number2, row_number3...], axis=0, inplace=True)  \n",
    "Ex---> df = df.drop([3, 6, 11], axis=0, inplace=True)\n",
    "\n",
    "# Menghapus baris berdasarkan nilai dalam suatu kolom  \n",
    "df = df[df['Column_name'] != 'value']  \n",
    "Ex---> df = df[df['Brand'] != 'Others']\n"
   ]
  },
  {
   "cell_type": "markdown",
   "metadata": {},
   "source": [
    "# Pemilihan kolom dan baris"
   ]
  },
  {
   "cell_type": "code",
   "execution_count": null,
   "metadata": {},
   "outputs": [],
   "source": [
    "# Memilih satu kolom dari DataFrame  \n",
    "single_column = df['ColumnName']\n",
    "\n",
    "# Memilih beberapa kolom dari DataFrame  \n",
    "multiple_columns = df[['Column1', 'Column2']]\n",
    "\n",
    "# Memilih satu baris berdasarkan indeks  \n",
    "single_row = df.loc[[row_number]]  \n",
    "Ex---> single_row = df.loc[[2]]\n",
    "\n",
    "# Memilih beberapa baris berdasarkan indeks  \n",
    "multiple_rows_iloc = df.loc[[row_number, row_number, row_number...]]  \n",
    "Ex---> multiple_rows_iloc = df.loc[[2, 4, 5]]\n",
    "\n",
    "# Mengambil sejumlah karakter pertama dari setiap nilai dalam kolom tertentu  \n",
    "df['Column_name'] = df['Column_name'].astype(str).str[:number]  \n",
    "Ex---> df['Year'] = df['Year'].astype(str).str[:4]\n",
    "\n",
    "# Memilih rentang baris berdasarkan indeks  \n",
    "df1 = df.loc[num:num]  \n",
    "Ex---> df1 = df.loc[5:8]  \n",
    "Ex---> df1 = df.loc[:8]  # Dari awal hingga indeks 8  \n",
    "Ex---> df1 = df.loc[8:]  # Dari indeks 8 hingga akhir  \n",
    "\n",
    "# Mengambil satu nilai dari satu kolom berdasarkan indeks baris  \n",
    "single_value_of_single_column = df.loc[row_number, \"Column_name\"]  \n",
    "Ex---> single_value_of_single_column = df.loc[4, \"Airline\"]\n",
    "\n",
    "# Memilih satu kolom dengan beberapa baris berdasarkan rentang indeks  \n",
    "single_column_multiple_rows = df.loc[num:num, \"Column_name\"]  \n",
    "Ex---> single_column_multiple_rows = df.loc[1:3, \"Airline\"]\n",
    "\n",
    "# Memilih beberapa baris dan beberapa kolom berdasarkan rentang indeks  \n",
    "multiple_row_multiple_columns = df.loc[num:num, [\"Column_name1\", \"Column_name2\"]]  \n",
    "Ex---> multiple_row_multiple_columns = df.loc[1:3, [\"Name\", \"Grade\", \"Ranking\"]]\n",
    "\n",
    "# Memilih baris berdasarkan kondisi tertentu  \n",
    "df1 = df.loc[df[\"Airline\"] == \"IndiGo\"]  \n",
    "df1 = df.loc[df[\"Id\"] < 4]\n",
    "\n",
    "# Mengambil 10 baris terakhir berdasarkan indeks  \n",
    "last_10_rows_index = df.index[-10:]  \n",
    "last_10 = df.loc[last_10_rows_index]\n"
   ]
  },
  {
   "cell_type": "markdown",
   "metadata": {},
   "source": [
    "# # Filter DataFrame"
   ]
  },
  {
   "cell_type": "code",
   "execution_count": null,
   "metadata": {},
   "outputs": [],
   "source": [
    "'''\n",
    "&  --> Operator AND (memeriksa apakah kedua kondisi benar)\n",
    "|  --> Operator OR (memeriksa apakah salah satu kondisi benar)\n",
    "'''\n",
    "\n",
    "# Memilih baris di mana nilai dalam kolom 'Column_name' sama dengan \"Value\"\n",
    "mask1 = df['Column_name'] == \"Value\"\n",
    "df[mask1]\n",
    "\n",
    "# Contoh 1: Memilih baris di mana 'CarName' adalah \"BMW\"\n",
    "mask1 = df['CarName'] == \"BMW\"\n",
    "df[mask1]\n",
    "\n",
    "# Contoh 2: Memilih baris di mana 'CarName' adalah \"BMW\" DAN 'FuelType' adalah \"Gas\"\n",
    "mask1 = df['CarName'] == \"BMW\"\n",
    "mask2 = df['FuleType'] == \"Gas\"\n",
    "df = df[mask1 & mask2]\n",
    "df.head()\n",
    "\n",
    "# Contoh 3: Memilih baris di mana 'CarName' adalah \"BMW\" DAN ('FuelType' adalah \"Gas\" ATAU 'Transmission' adalah \"Automatic\")\n",
    "mask1 = df['CarName'] == \"BMW\"\n",
    "mask2 = df['FuleType'] == \"Gas\"\n",
    "mask3 = df['Transmission'] == \"Automatic\"\n",
    "df = df[mask1 & (mask2 | mask3)]\n",
    "df.head()\n",
    "\n",
    "# Contoh 4: Memilih kolom tertentu ketika 'CarName' adalah \"BMW\" DAN 'Price' kurang dari atau sama dengan 40.000\n",
    "mask1 = df['CarName'] == \"BMW\"\n",
    "mask2 = df['Price'] <= 40000\n",
    "df = df.loc[mask1 & mask2, [\"Total marks\", \"Grade\", \"Ranking\"]]\n",
    "df.head()\n",
    "\n",
    "# Contoh 5: Memilih kolom tertentu ketika 'CarName' adalah \"BMW\" DAN 'Price' berada dalam rentang 40.000 hingga 754.000\n",
    "mask1 = df['CarName'] == \"BMW\"\n",
    "mask2 = df['Price'].between(40000, 754000)\n",
    "df = df.loc[mask1 & mask2, [\"Grade\", \"Ranking\"]]\n",
    "df.head()\n"
   ]
  },
  {
   "cell_type": "markdown",
   "metadata": {},
   "source": [
    "# Memisahkan kolom"
   ]
  },
  {
   "cell_type": "code",
   "execution_count": null,
   "metadata": {},
   "outputs": [],
   "source": [
    "# Memisahkan kolom \"Column\" menjadi dua kolom (\"First\" dan \"Second\") menggunakan koma (,) sebagai pemisah.\n",
    "# Jika pemisahnya berbeda (misalnya titik koma \";\"), ganti sesuai kebutuhan.\n",
    "df[['First', 'Second']] = df['Column'].str.split(',', expand=True)\n",
    "\n",
    "# Menggunakan ekspresi reguler (regex) untuk mengekstrak pola tertentu dari teks dalam kolom \"Column\".\n",
    "# Dalam contoh ini, kita mengekstrak angka setelah \"ID:\" dan kata setelah \"Name:\".\n",
    "import re\n",
    "df[['First', 'Second']] = df['Column'].str.extract(r'ID: (\\d+) Name: (\\w+)')"
   ]
  },
  {
   "cell_type": "markdown",
   "metadata": {},
   "source": [
    "## Contoh"
   ]
  },
  {
   "cell_type": "code",
   "execution_count": 59,
   "metadata": {},
   "outputs": [
    {
     "name": "stdout",
     "output_type": "stream",
     "text": [
      "                      Gpu Gpu_Brand         Gpu_Model\n",
      "0  Intel Iris Xe Graphics     Intel  Iris Xe Graphics\n",
      "1  Intel Iris Xe Graphics     Intel  Iris Xe Graphics\n",
      "2  Intel Iris Xe Graphics     Intel  Iris Xe Graphics\n",
      "3  Intel Iris Xe Graphics     Intel  Iris Xe Graphics\n",
      "4     AMD Radeon RX 5600M       AMD   Radeon RX 5600M\n"
     ]
    }
   ],
   "source": [
    "# Mengekstrak brand dan model dari kolom \"Gpu\"\n",
    "df[['Gpu_Brand', 'Gpu_Model']] = df['Gpu'].str.extract(r'(\\w+)\\s(.+)')\n",
    "\n",
    "# Menampilkan hasil\n",
    "print(df[['Gpu', 'Gpu_Brand', 'Gpu_Model']].head())\n"
   ]
  },
  {
   "cell_type": "markdown",
   "metadata": {},
   "source": [
    "# Gabungkan, Gabungkan dan Gabung kolom"
   ]
  },
  {
   "cell_type": "code",
   "execution_count": null,
   "metadata": {},
   "outputs": [],
   "source": [
    "# Menggabungkan dua DataFrame secara berdampingan (berdasarkan indeks yang sama) menggunakan merge  \n",
    "df = pd.merge(df1, df2, right_index=True, left_index=True)\n",
    "\n",
    "# Menggabungkan dua DataFrame secara vertikal (menumpuk baris dari df2 di bawah df1)  \n",
    "# Parameter ignore_index=True akan mengatur ulang indeks setelah penggabungan  \n",
    "df = pd.concat([df1, df2], ignore_index=True)\n",
    "\n",
    "# Menggabungkan dua DataFrame secara berdampingan berdasarkan indeks menggunakan join  \n",
    "df = df1.join(df2)\n"
   ]
  },
  {
   "cell_type": "markdown",
   "metadata": {},
   "source": [
    "# Urutkan dataframe"
   ]
  },
  {
   "cell_type": "code",
   "execution_count": null,
   "metadata": {},
   "outputs": [],
   "source": [
    "# Mengurutkan DataFrame berdasarkan kolom tertentu dalam urutan menaik (ascending)  \n",
    "df = df.sort_values(by=\"column_name\", ascending=True)\n",
    "\n",
    "# Mengurutkan DataFrame berdasarkan kolom tertentu dalam urutan menurun (descending)  \n",
    "df = df.sort_values(by=\"column_name\", ascending=False)\n",
    "\n",
    "# Mengurutkan DataFrame berdasarkan beberapa kolom secara bersamaan dalam urutan menurun  \n",
    "df = df.sort_values(by=['Column1', 'Column2'], ascending=False)\n",
    "\n",
    "# Mengurutkan DataFrame berdasarkan indeks dalam urutan menurun  \n",
    "df = df.sort_index(ascending=False)\n"
   ]
  },
  {
   "cell_type": "markdown",
   "metadata": {},
   "source": [
    "# Buat dan tambahkan kolom baru (DataFrame)"
   ]
  },
  {
   "cell_type": "code",
   "execution_count": null,
   "metadata": {},
   "outputs": [],
   "source": [
    "# Membuat daftar kosong\n",
    "list_ = []\n",
    "\n",
    "# Menyalin semua nilai dari kolom \"ColName\" ke dalam daftar\n",
    "for i in df['ColName']:\n",
    "    list_.append(i)\n",
    "\n",
    "# Menambahkan daftar sebagai kolom baru di DataFrame\n",
    "df['New_Column_name'] = list_\n"
   ]
  },
  {
   "cell_type": "markdown",
   "metadata": {},
   "source": [
    "# Ganti kolom"
   ]
  },
  {
   "cell_type": "code",
   "execution_count": null,
   "metadata": {},
   "outputs": [],
   "source": [
    "import pandas as pd\n",
    "\n",
    "# Membuat DataFrame awal\n",
    "data = {'A': [1, 2, 3], 'B': ['x', 'y', 'z']}\n",
    "df = pd.DataFrame(data)\n",
    "\n",
    "# Data baru untuk menggantikan kolom 'B'\n",
    "new_data = ['p', 'q', 'r']\n",
    "\n",
    "# Memastikan panjang new_data sesuai dengan jumlah baris di df\n",
    "if len(new_data) == len(df):\n",
    "    df['B'] = new_data  # Mengganti kolom tanpa Series\n",
    "else:\n",
    "    df['B'] = pd.Series(new_data)  # Menggunakan Series untuk menangani panjang yang berbeda\n",
    "\n",
    "df\n"
   ]
  },
  {
   "cell_type": "markdown",
   "metadata": {},
   "source": [
    "# Buat Dataframe"
   ]
  },
  {
   "cell_type": "code",
   "execution_count": null,
   "metadata": {},
   "outputs": [],
   "source": [
    "# Membuat DataFrame dari daftar (list) sederhana\n",
    "x = [1, 2, 3]\n",
    "df = pd.DataFrame(x)\n",
    "df\n",
    "\n",
    "# Membuat DataFrame dari dictionary, di mana setiap kunci menjadi nama kolom,\n",
    "# dan setiap nilai dalam bentuk list menjadi isi kolom\n",
    "x = {\"id\": [1, 2, 3], \"Name\": [\"R\", \"A\", \"F\"], \"Ratting\": [4.00, 3.50, 3.45]}\n",
    "df = pd.DataFrame(x)\n",
    "df\n",
    "\n",
    "# Membuat DataFrame dari list of dictionaries,\n",
    "# di mana setiap dictionary mewakili satu baris data\n",
    "x = [{\"id\": 1, \"Name\": \"A\", \"Ratting\": 3.0}, {\"id\": 2, \"Name\": \"B\", \"Ratting\": 5.0}]\n",
    "df = pd.DataFrame(x)\n",
    "df"
   ]
  },
  {
   "cell_type": "markdown",
   "metadata": {},
   "source": [
    "# Buat seri"
   ]
  },
  {
   "cell_type": "code",
   "execution_count": null,
   "metadata": {},
   "outputs": [],
   "source": [
    "# Membuat Series dari list dengan berbagai tipe data (integer dan string)\n",
    "x = [1, \"data frame\", \"python\", \"data science\"]\n",
    "df = pd.Series(x)\n",
    "df\n",
    "\n",
    "\n",
    "# Membuat Series dari list angka, dengan tipe data yang ditentukan sebagai float\n",
    "x = [1, 2, 3]\n",
    "df = pd.Series(x, dtype=float)\n",
    "df"
   ]
  },
  {
   "cell_type": "markdown",
   "metadata": {},
   "source": [
    "# Periksa nilai yang hilang"
   ]
  },
  {
   "cell_type": "code",
   "execution_count": null,
   "metadata": {},
   "outputs": [],
   "source": [
    "# Menghitung persentase nilai kosong (NaN) dalam satu kolom ('Airline')\n",
    "df['Airline'].isnull().sum() / df.shape[0] * 100\n",
    "\n",
    "# Menghitung persentase nilai kosong (NaN) untuk semua kolom dalam DataFrame\n",
    "df.isnull().sum() / df.shape[0] * 100\n",
    "\n",
    "# Menghitung jumlah nilai kosong (NaN) untuk setiap kolom dalam DataFrame\n",
    "df.isnull().sum()"
   ]
  },
  {
   "cell_type": "code",
   "execution_count": 62,
   "metadata": {},
   "outputs": [
    {
     "name": "stdout",
     "output_type": "stream",
     "text": [
      "Persentase missing values di 'CompanyName': 0.00%\n",
      "\n",
      "Persentase missing values untuk semua kolom:\n",
      " CompanyName         0.0\n",
      "TypeOfLaptop        0.0\n",
      "Inches              0.0\n",
      "ScreenResolution    0.0\n",
      "Cpu                 0.0\n",
      "Ram                 0.0\n",
      "Memory              0.0\n",
      "Gpu                 0.0\n",
      "OpSys               0.0\n",
      "Weight              0.0\n",
      "Price               0.0\n",
      "Gpu_Brand           0.0\n",
      "Gpu_Model           0.0\n",
      "dtype: float64\n",
      "\n",
      "Jumlah missing values untuk setiap kolom:\n",
      " CompanyName         0\n",
      "TypeOfLaptop        0\n",
      "Inches              0\n",
      "ScreenResolution    0\n",
      "Cpu                 0\n",
      "Ram                 0\n",
      "Memory              0\n",
      "Gpu                 0\n",
      "OpSys               0\n",
      "Weight              0\n",
      "Price               0\n",
      "Gpu_Brand           0\n",
      "Gpu_Model           0\n",
      "dtype: int64\n"
     ]
    }
   ],
   "source": [
    "missing_percentage_single = df['CompanyName'].isnull().sum() / df.shape[0] * 100\n",
    "print(f\"Persentase missing values di 'CompanyName': {missing_percentage_single:.2f}%\")\n",
    "\n",
    "# Menghitung persentase nilai kosong (NaN) untuk semua kolom dalam DataFrame\n",
    "missing_percentage_all = df.isnull().sum() / df.shape[0] * 100\n",
    "print(\"\\nPersentase missing values untuk semua kolom:\\n\", missing_percentage_all)\n",
    "\n",
    "# Menghitung jumlah nilai kosong (NaN) untuk setiap kolom dalam DataFrame\n",
    "missing_count = df.isnull().sum()\n",
    "print(\"\\nJumlah missing values untuk setiap kolom:\\n\", missing_count)"
   ]
  },
  {
   "cell_type": "markdown",
   "metadata": {},
   "source": [
    "# Fungsi Dropna"
   ]
  },
  {
   "cell_type": "markdown",
   "metadata": {},
   "source": [
    "axis: Parameter ini menentukan apakah akan membuang baris atau kolom. Secara default, parameter ini ditetapkan ke 0 (baris). Menetapkannya ke 1 akan membuang kolom dengan nilai NaN.\n",
    "\n",
    "\n",
    "how: Parameter ini menentukan kriteria yang digunakan untuk membuang nilai NaN. Opsinya adalah:        \n",
    "'any'   : Membuang baris atau kolom jika ada nilai NaN (default).       \n",
    "'all'   : Membuang baris atau kolom hanya jika semua nilai adalah NaN.          \n",
    "\n",
    "thresh  : Parameter ini memerlukan jumlah minimum nilai non-NaN. Misalnya, thresh=2 akan membuang baris atau kolom yang memiliki kurang dari dua nilai non-NaN."
   ]
  },
  {
   "cell_type": "code",
   "execution_count": null,
   "metadata": {},
   "outputs": [],
   "source": [
    "# Menghapus semua baris yang memiliki nilai kosong (NaN) di setidaknya satu kolom\n",
    "df = df.dropna()\n",
    "\n",
    "# Menghapus semua kolom yang memiliki setidaknya satu nilai kosong (NaN)\n",
    "df = df.dropna(axis=1)\n",
    "\n",
    "# Menghapus baris yang memiliki semua nilai kosong (NaN) di setiap kolom\n",
    "df = df.dropna(how=\"all\")\n",
    "\n",
    "# Menghapus baris yang memiliki kurang dari 4 nilai non-NaN (jika ada kurang dari 4 data valid, maka baris dihapus)\n",
    "df = df.dropna(thresh=4, axis=0)\n",
    "\n",
    "# Menghapus kembali baris yang memiliki semua nilai kosong (NaN) di setiap kolom (redundan, sama seperti sebelumnya)\n",
    "df = df.dropna(how=\"all\")\n"
   ]
  },
  {
   "cell_type": "markdown",
   "metadata": {},
   "source": [
    "# Fungsi Fillna"
   ]
  },
  {
   "cell_type": "code",
   "execution_count": null,
   "metadata": {},
   "outputs": [],
   "source": [
    "# Mengisi semua nilai kosong (NaN) dalam DataFrame dengan nilai tetap \"FFFFF\"\n",
    "df = df.fillna(\"FFFFF\")\n",
    "\n",
    "# Mengisi nilai kosong (NaN) dalam kolom tertentu dengan nilai tetap \"FFFFF\"\n",
    "df['column_name'] = df['column_name'].fillna(\"FFFFF\")\n",
    "\n",
    "\n",
    "\n",
    "# Mengisi nilai kosong (NaN) dengan nilai dari sel sebelumnya dalam DataFrame (forward fill)\n",
    "df = df.fillna(method=\"ffill\")\n",
    "\n",
    "# Mengisi nilai kosong (NaN) dengan nilai dari sel sebelumnya dalam kolom tertentu (forward fill)\n",
    "df['column_name'] = df['column_name'].fillna(method=\"ffill\")\n",
    "\n",
    "\n",
    "\n",
    "# Mengisi nilai kosong (NaN) dengan nilai dari sel berikutnya dalam DataFrame (backward fill)\n",
    "df = df.fillna(method=\"bfill\")\n",
    "\n",
    "# Mengisi nilai kosong (NaN) dengan nilai dari sel berikutnya dalam kolom tertentu (backward fill)\n",
    "df['column_name'] = df['column_name'].fillna(method=\"bfill\")\n"
   ]
  },
  {
   "cell_type": "markdown",
   "metadata": {},
   "source": [
    "# Ganti Nilai"
   ]
  },
  {
   "cell_type": "code",
   "execution_count": null,
   "metadata": {},
   "outputs": [],
   "source": [
    "# Menghapus simbol \"₹\" dan tanda koma \",\" dari nilai dalam kolom tertentu\n",
    "df['Column_Name'] = df['Column_Name'].str.replace('₹', '').str.replace(',', '')\n",
    "\n",
    "\n",
    "\n",
    "##### Menghapus semua simbol, hanya menyisakan teks (huruf dan spasi) #####\n",
    "import re\n",
    "df['Column_Name'] = df['Column_Name'].str.replace(r'[^a-zA-Z\\s]', '', regex=True)\n",
    "\n",
    "\n",
    "\n",
    "# Menghapus tanda koma \",\" dari nilai dalam kolom tertentu\n",
    "df['Column_Name'] = df['Column_Name'].str.replace(',', '')\n",
    "\n",
    "\n",
    "\n",
    "# Mengganti beberapa nilai dalam kolom menggunakan dictionary (misalnya 'A' menjadi 'Apple', dst.)\n",
    "replace_dict = {'A': 'Apple', 'B': 'Banana', 'C': 'Cherry'}\n",
    "df['column_name'].replace(replace_dict, inplace=True)\n",
    "\n",
    "\n",
    "\n",
    "###################################################\n",
    "'''\n",
    "Mengganti semua nilai dalam kolom tertentu kecuali yang ada dalam daftar `given_car_brands`.  \n",
    "Jika nilai tidak ada dalam daftar, maka akan diganti dengan \"Others\".\n",
    "'''\n",
    "\n",
    "given_car_brands = [\n",
    "    'Toyota', 'Hyundai', 'Mazda', 'Holden', 'Ford', 'Mitsubishi', 'Nissan',\n",
    "    'Volkswagen', 'Kia', 'Mercedes-Benz', 'Subaru', 'BMW', 'Audi', 'Honda',\n",
    "    'Jeep', 'Suzuki', 'MG', 'Land', 'Isuzu', 'GWM', 'Lexus', 'Renault',\n",
    "    'Volvo', 'LDV', 'Skoda'\n",
    "]\n",
    "\n",
    "df['Column_Name'] = df['Column_Name'].apply(lambda x: x if x in given_car_brands else 'Others')\n",
    "# Di sini, \"Others\" adalah nilai pengganti untuk data yang tidak termasuk dalam daftar `given_car_brands`\n"
   ]
  },
  {
   "cell_type": "markdown",
   "metadata": {},
   "source": [
    "# Nilai numerik dan kategoris yang bersih"
   ]
  },
  {
   "cell_type": "code",
   "execution_count": null,
   "metadata": {},
   "outputs": [],
   "source": [
    "# Menghapus semua karakter selain angka dari kolom numerik\n",
    "# \\D berarti \"semua karakter selain digit (0-9)\"\n",
    "import re\n",
    "df['Column_name'] = df['Column_name'].str.replace(r'\\D', '', regex=True)\n",
    "\n",
    "\n",
    "\n",
    "# Menghapus semua simbol atau karakter khusus dalam kolom kategori,\n",
    "# hanya menyisakan huruf (a-z, A-Z) dan angka (0-9)\n",
    "df['Column_name'] = df['Column_name'].str.replace(r'[^a-zA-Z0-9]', '', regex=True)\n"
   ]
  },
  {
   "cell_type": "markdown",
   "metadata": {},
   "source": [
    "# KNN imputer dan imputer sederhana"
   ]
  },
  {
   "cell_type": "markdown",
   "metadata": {},
   "source": [
    "**Anda tidak perlu mengubah kode:**\n",
    "1. Jika kerangka data Anda hanya berisi kolom numerik, pilih kode pertama.\n",
    "2. Jika kerangka data Anda hanya berisi kolom kategoris, pilih kode kedua.\n",
    "3. Jika kerangka data Anda berisi kolom kategoris & numerik, pilih kode ketiga."
   ]
  },
  {
   "cell_type": "code",
   "execution_count": null,
   "metadata": {},
   "outputs": [],
   "source": [
    "### ************ Mengisi nilai kosong untuk semua kolom numerik ************** ######\n",
    "\n",
    "from sklearn.impute import KNNImputer\n",
    "\n",
    "# Menggunakan KNNImputer untuk mengisi nilai kosong berdasarkan 5 tetangga terdekat\n",
    "imputer = KNNImputer(n_neighbors=5)  \n",
    "df_imputed = imputer.fit_transform(df)  \n",
    "\n",
    "# Mengubah hasil imputasi kembali ke DataFrame dengan kolom yang sama\n",
    "df_imputed = pd.DataFrame(df_imputed, columns=df.columns)\n",
    "\n",
    "\n",
    "\n",
    "### ********** Mengisi nilai kosong untuk semua kolom kategorikal ************ #########\n",
    "\n",
    "from sklearn.impute import SimpleImputer\n",
    "\n",
    "# Menggunakan SimpleImputer dengan strategi 'most_frequent' (nilai yang paling sering muncul)\n",
    "imputer = SimpleImputer(strategy='most_frequent')\n",
    "\n",
    "# Menerapkan imputasi ke seluruh DataFrame (berlaku untuk semua kolom kategorikal)\n",
    "df = pd.DataFrame(imputer.fit_transform(df), columns=df.columns)\n",
    "\n",
    "\n",
    "\n",
    "### ********** Mengisi nilai kosong untuk kolom numerik dan kategorikal secara terpisah ********** ###########\n",
    "\n",
    "# Memilih semua kolom numerik dalam DataFrame\n",
    "numerical_columns = df.select_dtypes(include=['number']).columns.tolist()\n",
    "numerical_df = df[numerical_columns]\n",
    "\n",
    "# Menggunakan KNNImputer untuk mengisi nilai kosong dalam kolom numerik\n",
    "knnimputer = KNNImputer(n_neighbors=5)  \n",
    "numerical_cln_df = knnimputer.fit_transform(numerical_df)  \n",
    "numerical_cln_df = pd.DataFrame(numerical_cln_df, columns=numerical_df.columns)\n",
    "\n",
    "\n",
    "\n",
    "# Memilih semua kolom kategorikal dalam DataFrame\n",
    "categorical_columns = df.select_dtypes(include=['object']).columns.tolist()\n",
    "categorical_df = df[categorical_columns]\n",
    "\n",
    "# Menggunakan SimpleImputer untuk mengisi nilai kosong dalam kolom kategorikal dengan nilai yang paling sering muncul\n",
    "categorical_imputer = SimpleImputer(strategy='most_frequent')\n",
    "categorical_cln_df = pd.DataFrame(categorical_imputer.fit_transform(categorical_df), columns=categorical_df.columns)\n",
    "\n",
    "\n",
    "\n",
    "# Menggabungkan kembali DataFrame kategorikal dan numerik setelah imputasi\n",
    "df = pd.merge(categorical_cln_df, numerical_cln_df, right_index=True, left_index=True)\n"
   ]
  },
  {
   "cell_type": "markdown",
   "metadata": {},
   "source": [
    "# Simpan file dalam format berbeda"
   ]
  },
  {
   "cell_type": "code",
   "execution_count": null,
   "metadata": {},
   "outputs": [],
   "source": [
    "df.to_excel(\"new_file_name.xlsx\")\n",
    "df.to_csv(\"new_file_name.csv\")\n",
    "df.to_csv(\"new_file_name.json\")"
   ]
  },
  {
   "cell_type": "markdown",
   "metadata": {},
   "source": [
    "# Kelompokkan berdasarkan"
   ]
  },
  {
   "cell_type": "code",
   "execution_count": null,
   "metadata": {},
   "outputs": [],
   "source": [
    "# ***** Mengelompokkan berdasarkan satu kolom dan menghitung rata-rata nilai dalam kolom lain ********\n",
    "g1 = df.groupby(['column_name'])['group_val_column_name'].mean().reset_index()\n",
    "\n",
    "# Mengurutkan hasil berdasarkan indeks secara descending (dari terbesar ke terkecil)\n",
    "g1 = g1.sort_index(ascending=False)\n",
    "g1\n",
    "\n",
    "# Contoh penggunaan:\n",
    "# Mengelompokkan berdasarkan kolom 'Car' lalu menghitung rata-rata dari kolom 'Price'\n",
    "g1 = df.groupby(['Car'])['Price'].mean().reset_index()\n",
    "g1 = g1.sort_index(ascending=False)\n",
    "g1\n",
    "\n",
    "\n",
    "\n",
    "# ******** Mengelompokkan berdasarkan beberapa kolom lalu menghitung total nilai dalam kolom lain **********\n",
    "g1 = df.groupby(['column_name', 'column_name', ...])['group_val_column_name'].sum().reset_index()\n",
    "\n",
    "# Mengurutkan hasil berdasarkan indeks secara descending\n",
    "g1 = g1.sort_index(ascending=False)\n",
    "g1\n",
    "\n",
    "# Contoh penggunaan:\n",
    "# Mengelompokkan berdasarkan kolom 'Car' dan 'Transmission' lalu menghitung total 'Price'\n",
    "g1 = df.groupby(['Car', 'Transmission'])['Price'].sum().reset_index()\n",
    "g1 = g1.sort_index(ascending=False)\n",
    "g1\n"
   ]
  },
  {
   "cell_type": "markdown",
   "metadata": {},
   "source": [
    "# Agregat"
   ]
  },
  {
   "cell_type": "code",
   "execution_count": null,
   "metadata": {},
   "outputs": [],
   "source": [
    "# Mengelompokkan berdasarkan satu kolom lalu menghitung beberapa agregasi ('mean', 'max', 'min')\n",
    "result1 = df.groupby('Column_name')['Value_column_name'].agg(['mean', 'max', 'min']).reset_index()\n",
    "\n",
    "# Contoh penggunaan:\n",
    "# Mengelompokkan berdasarkan kolom 'car' lalu menghitung rata-rata, nilai maksimum, dan minimum dari kolom 'Price'\n",
    "result1 = df.groupby('car')['Price'].agg(['mean', 'max', 'min']).reset_index()\n"
   ]
  }
 ],
 "metadata": {
  "kaggle": {
   "accelerator": "none",
   "dataSources": [
    {
     "datasetId": 4151218,
     "sourceId": 7181846,
     "sourceType": "datasetVersion"
    }
   ],
   "dockerImageVersionId": 30626,
   "isGpuEnabled": false,
   "isInternetEnabled": true,
   "language": "python",
   "sourceType": "notebook"
  },
  "kernelspec": {
   "display_name": "base",
   "language": "python",
   "name": "python3"
  },
  "language_info": {
   "codemirror_mode": {
    "name": "ipython",
    "version": 3
   },
   "file_extension": ".py",
   "mimetype": "text/x-python",
   "name": "python",
   "nbconvert_exporter": "python",
   "pygments_lexer": "ipython3",
   "version": "3.12.7"
  }
 },
 "nbformat": 4,
 "nbformat_minor": 4
}
